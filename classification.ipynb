{
 "cells": [
  {
   "cell_type": "markdown",
   "metadata": {},
   "source": [
    "# Classification.ipynb\n",
    "Date: November 29th, 2018  \n",
    "Course: ECSE415, McGill University  \n",
    "Authors:  \n",
    "*Shawn Vosburg  \n",
    "Tristan Bouchard  \n",
    "Alex Masciotra  \n",
    "Nayem Alam  \n",
    "Thomas Philippon *"
   ]
  },
  {
   "cell_type": "markdown",
   "metadata": {},
   "source": [
    "## NOTE: The classification files folder must be found in the same folder as this code. "
   ]
  },
  {
   "cell_type": "code",
   "execution_count": 5,
   "metadata": {},
   "outputs": [],
   "source": [
    "#Import necessary libraries. Strategy: Find HoG features of each image and build SVM with them.\n",
    "#For second classifier, try Kmeans or Kneighboors\n",
    "import cv2\n",
    "import numpy as np\n",
    "import matplotlib.pyplot as plt\n",
    "import os\n",
    "import time\n",
    "import  random as rand\n",
    "from sklearn import svm\n",
    "from sklearn.externals import joblib\n",
    "from sklearn.metrics import confusion_matrix\n",
    "from sklearn.neighbors import KNeighborsClassifier\n",
    "\n",
    "\n",
    "#from sklearn.neighbors import KNeighborsClassifier\n",
    "\n",
    "#Declare Constants\n",
    "CLASSIFY_DIM = (128,128)   #Size of the training images\n",
    "KCROSSVALID_NUM = 10       #Number of bins when doing k-cross validation\n",
    "IMGMAXPERCAT = 2200        #We take max  of the images. This is to reduce computation time. \n",
    "\n",
    "#Make directories if necessary\n",
    "if(not os.path.isdir(\"./Classifiers/SVM/\")):\n",
    "    os.makedirs(\"./Classifiers/SVM/\")\n",
    "if(not os.path.isdir(\"./Classifiers/Kneigh/\")):\n",
    "    os.makedirs(\"./Classifiers/Kneigh/\")\n",
    "if(not os.path.isdir(\"./bin/\")):\n",
    "    os.makedirs(\"./bin/\")"
   ]
  },
  {
   "cell_type": "markdown",
   "metadata": {},
   "source": [
    "## 2. Classification\n",
    "### Loading and resizing images && Compute HOG features of all images."
   ]
  },
  {
   "cell_type": "code",
   "execution_count": 6,
   "metadata": {},
   "outputs": [],
   "source": [
    "def HoGFromImage(img,cs,bs,nb):\n",
    "    \"\"\" This function takes in an image array and HoG param and returns the computed histogram for the image array\n",
    "        img = image array. all images must be same resolution. \n",
    "        cs = cell size in pixel x pixel (height x width)\n",
    "        bc = bin size in cell x cell (height x width)\n",
    "        nb = number of bins\n",
    "\n",
    "    \"\"\"\n",
    "\n",
    "    # create HoG Object\n",
    "    # winSize is the size of the image cropped to an multiple of the cell size\n",
    "    hog = cv2.HOGDescriptor(_winSize=(img.shape[1] // cs[1] * cs[1],\n",
    "                                      img.shape[0] // cs[0] * cs[0]),\n",
    "                            _blockSize=(bs[1] * cs[1],\n",
    "                                        bs[0] * cs[0]),\n",
    "                            _blockStride=(cs[1], cs[0]),\n",
    "                            _cellSize=(cs[1], cs[0]),\n",
    "                            _nbins=nb)\n",
    "    \n",
    "    \n",
    "    n_cells = (img.shape[0] // cs[0], img.shape[1] // cs[1])\n",
    "        \n",
    "\n",
    "    # Compute HoG features\n",
    "    hog_feats = hog.compute(img)\\\n",
    "                   .reshape(n_cells[1] - bs[1] + 1,\n",
    "                            n_cells[0] - bs[0] + 1,\n",
    "                            bs[0], bs[1], nb) \\\n",
    "                   .transpose((1, 0, 2, 3, 4))  # index blocks by rows first\n",
    "\n",
    "    # hog_feats now contains the gradient amplitudes for each direction,for each cell of its group for each group.\n",
    "    # Indexing is by rows then columns.\n",
    "\n",
    "    # computation for BlockNorm\n",
    "    gradients = np.full((n_cells[0], n_cells[1], 8), 0, dtype=float)\n",
    "    cell_count = np.full((n_cells[0], n_cells[1], 1), 0, dtype=int)\n",
    "\n",
    "    #Add each contributions to the histogram.\n",
    "    for off_y in range(bs[0]):\n",
    "        for off_x in range(bs[1]):\n",
    "            gradients[off_y:n_cells[0] - bs[0] + off_y + 1,\n",
    "                      off_x:n_cells[1] - bs[1] + off_x + 1] += \\\n",
    "                hog_feats[:, :, off_y, off_x, :]\n",
    "            cell_count[off_y:n_cells[0] - bs[0] + off_y + 1,\n",
    "                       off_x:n_cells[1] - bs[1] + off_x + 1] += 1\n",
    "\n",
    "    # Average gradients\n",
    "    gradients /= cell_count\n",
    "    return gradients\n",
    "\n",
    "#Create function to save classifier\n",
    "def saveCLF(clf,path):\n",
    "    joblib.dump(clf,path)\n",
    "    \n",
    "#Create function to load classifier\n",
    "def loadCLF(path):\n",
    "    return joblib.load(path)\n",
    "\n",
    "#Class to hold the feature data and the label\n",
    "class labeledData():\n",
    "    def __init__(self,data,label,num):\n",
    "        self.data = data\n",
    "        self.label = label\n",
    "        self.num = num"
   ]
  },
  {
   "cell_type": "code",
   "execution_count": 7,
   "metadata": {},
   "outputs": [
    {
     "name": "stdout",
     "output_type": "stream",
     "text": [
      "Presently loading saved binary of images/HOG features and labels ...DONE!\n",
      "REPORT: \n",
      "\tTotal Number of images: 23533 \n",
      "\tTotal time taken:  0.6511495113372803 sec\n"
     ]
    }
   ],
   "source": [
    "#Import training images\n",
    "folder = \"./MIO-TCD-Classification/train/\"\n",
    "vehicleName = [\n",
    "    \"articulated_truck\", \"background\", \"bicycle\",\n",
    "    \"bus\", \"car\", \"motorcycle\", \"non-motorized_vehicle\",\n",
    "    \"pedestrian\", \"pickup_truck\", \"single_unit_truck\", \"work_van\"                \n",
    "]\n",
    "vehicleDir  = [                                  #Main Directory of Training images\n",
    "     \"articulated_truck\",        #10346 imgs\n",
    "     \"background\",               #160000 imgs\n",
    "     \"bicycle\",                  #2284 imgs\n",
    "     \"bus\",                      #10316 imgs\n",
    "     \"car\",                      #260518 imgs\n",
    "    \"motorcycle\",               #1982 imgs\n",
    "    \"non-motorized_vehicle\",    #1751 imgs\n",
    "    \"pedestrian\",               #6262 imgs\n",
    "    \"pickup_truck\",             #50906 imgs\n",
    "    \"single_unit_truck\",        #5120 imgs\n",
    "    \"work_van\"                 #9679 imgs\n",
    "]                 \n",
    "\n",
    "vehicleTypes = {}                                #This is the main hash that will map the vehicles type to a number. Maps string to index.\n",
    "vehicleImgArr,vehicleLabels,hogArr = [],[],[]\n",
    "idx = 0\n",
    "\n",
    "#Build Hash Table\n",
    "for bucket in os.listdir(folder):\n",
    "    vehicleTypes[bucket] = idx\n",
    "    idx +=1\n",
    "\n",
    "#HOG features parameters\n",
    "cell_size = (8,8)  # h x w in pixels \n",
    "block_size = (2,2)  # h x w in cells\n",
    "nbins = 8  # number of orientation bins\n",
    "\n",
    "#Loop across directory to fetch all images\n",
    "savingPath = \"./bin/ImgArr.data\"\n",
    "start = time.time()\n",
    "if(not os.path.isfile(savingPath)):\n",
    "    for typeName in vehicleDir:\n",
    "        vehicleTypeDir = folder + typeName+\"/\"\n",
    "        print(\"Presently loading & finding HOG features of \" + str(min(len(os.listdir(vehicleTypeDir)),IMGMAXPERCAT)) + \" images from: \" + typeName,end=\"\")\n",
    "        presentTime = time.time()\n",
    "\n",
    "        #fetch images\n",
    "        idx = 0\n",
    "        for imgPath in os.listdir(vehicleTypeDir):\n",
    "            if(idx >= IMGMAXPERCAT):\n",
    "                break\n",
    "            img = cv2.imread(vehicleTypeDir+imgPath)\n",
    "            img = cv2.resize(img,CLASSIFY_DIM)                          #Resize images so that they are all CLASSIFY_DIM in size\n",
    "            #vehicleImgArr.append(img)                                  #Commented this out to save processing time. \n",
    "            vehicleLabels.append(vehicleTypes[typeName])                #Have a seperate array with the labels.\n",
    "            hogArr.append(HoGFromImage(img,cell_size,block_size,nbins)) #Find Hog Features\n",
    "            idx += 1\n",
    "            \n",
    "        endTime = time.time()\n",
    "        print(\". (Time taken: \", endTime - presentTime,\"secs)\")\n",
    "    hogArr = np.asarray(hogArr)\n",
    "    vehicleLabels = np.asarray(vehicleLabels)\n",
    "    \n",
    "    #Saving files:\n",
    "    print(\"Saving...\",end = \"\")\n",
    "    savingPath = \"./bin/ImgArr.data\"      #Img Data\n",
    "    joblib.dump(vehicleImgArr,savingPath)\n",
    "    savingPath = \"./bin/HogArr.data\"      #Hog Arr\n",
    "    joblib.dump(hogArr,savingPath)\n",
    "    savingPath = \"./bin/LabelsArr.data\"      #labels Arr\n",
    "    joblib.dump(vehicleLabels,savingPath)\n",
    "    print(\"DONE!\")\n",
    "else:\n",
    "    print(\"Presently loading saved binary of images/HOG features and labels ...\",end = \"\")\n",
    "    savingPath = \"./bin/ImgArr.data\"      #Img Data\n",
    "    vehicleImgArr = joblib.load(savingPath)\n",
    "    savingPath = \"./bin/HogArr.data\"      #Hog Arr\n",
    "    hogArr = joblib.load(savingPath)\n",
    "    savingPath = \"./bin/LabelsArr.data\"      #labels Arr\n",
    "    vehicleLabels = joblib.load(savingPath)\n",
    "    print(\"DONE!\")\n",
    "end = time.time()\n",
    "\n",
    "#Print out report:\n",
    "print(\"REPORT: \\n\\tTotal Number of images:\",len(hogArr),\"\\n\\tTotal time taken: \",end-start,\"sec\")\n"
   ]
  },
  {
   "cell_type": "markdown",
   "metadata": {},
   "source": [
    "#### Preview of Image and its HOG features"
   ]
  },
  {
   "cell_type": "code",
   "execution_count": 8,
   "metadata": {},
   "outputs": [
    {
     "name": "stdout",
     "output_type": "stream",
     "text": [
      "Example of  pedestrian  hog features:\n"
     ]
    },
    {
     "data": {
      "image/png": "[encoded data removed]",
      "text/plain": [
       "<Figure size 1440x1440 with 16 Axes>"
      ]
     },
     "metadata": {},
     "output_type": "display_data"
    }
   ],
   "source": [
    "# Preview image and its hog features\n",
    "preview = 16500\n",
    "print(\"Example of \",vehicleName[vehicleLabels[preview]],\" hog features:\")\n",
    "plt.figure(figsize = (20,20))\n",
    "for bin in range(nbins):\n",
    "    plt.subplot(181+bin)\n",
    "    plt.pcolor(hogArr[preview][:, :, bin%nbins])\n",
    "    plt.gca().invert_yaxis()\n",
    "    plt.gca().set_aspect('equal', adjustable='box')\n",
    "    title = \"HOG bin: \" +  str(bin%nbins)\n",
    "    plt.title(title), plt.xticks([]), plt.yticks([])\n",
    "    plt.colorbar()\n",
    "plt.show()"
   ]
  },
  {
   "cell_type": "markdown",
   "metadata": {},
   "source": [
    "**Discussion:**  \n",
    "All images HOG features are computed-&-loaded inside *hogArr*. The features that are calculted are of size (16,16,8) meaning that for 8 angular directions, 16x16 array of hog features were calculated for each images (see above for the preview of what sample image with its hog features look like). Therefore, for each image, features of size $16^2 * 8 = 2048$ are calculated. "
   ]
  },
  {
   "cell_type": "markdown",
   "metadata": {},
   "source": [
    "## Classifier #1: SVM\n",
    "#### Creating classifier"
   ]
  },
  {
   "cell_type": "code",
   "execution_count": 9,
   "metadata": {},
   "outputs": [
    {
     "name": "stdout",
     "output_type": "stream",
     "text": [
      "Loading main SVM classifier ...DONE!\n"
     ]
    }
   ],
   "source": [
    "#Building filepath\n",
    "savingPath = \"./Classifiers/SVM/\"\n",
    "clfFileType = \".clf\"\n",
    "name = \"SVMclf\"+ \"_Main\"\n",
    "path = savingPath + name +clfFileType\n",
    "\n",
    "#Build classifier if it doesn't already exist\n",
    "if(not os.path.isfile(path)):\n",
    "    #Creating main classifier that is trained with all training images. \n",
    "    dataSVM = hogArr.reshape(len(hogArr),-1)\n",
    "    labelsSVM = vehicleLabels.reshape(-1)\n",
    "\n",
    "    #Train SVM classifier\n",
    "    print(\"Building the main SVM classifier ...\",end = '')\n",
    "    pTime = time.time()\n",
    "    clfMain = svm.SVC(C=100.) \n",
    "    clfMain.fit(dataSVM, labelsSVM)\n",
    "    eTime = time.time()\n",
    "    print(\"DONE!\")\n",
    "    print(\"Time taken to build main SVM classifier:\",eTime-pTime,\"sec\")\n",
    "\n",
    "    #Saving main SVM classifier\n",
    "    saveCLF(clfMain,path)\n",
    "\n",
    "#If the file already exist, just load the classifier instead of building a new one (saves a lot of time)\n",
    "else:\n",
    "    print(\"Loading main SVM classifier ...\",end = '')\n",
    "    clfMain = loadCLF(path)\n",
    "    print(\"DONE!\")"
   ]
  },
  {
   "cell_type": "markdown",
   "metadata": {},
   "source": [
    "**Discussion:**  \n",
    "In order to avoid always rebuilding the same classifier everytime, logic has been added to load an already saved version of the calssifier. The main SVM classifier is saved as *./Classifiers/SVM/SVMclf_Main.clf*. To build a new classifier, please delete that file before running the jupyter cell above. "
   ]
  },
  {
   "cell_type": "markdown",
   "metadata": {},
   "source": [
    "## Classifier #2:  K-NearestNeighbor"
   ]
  },
  {
   "cell_type": "code",
   "execution_count": 10,
   "metadata": {},
   "outputs": [
    {
     "name": "stdout",
     "output_type": "stream",
     "text": [
      "Loading main Kneigh classifier ...DONE!\n"
     ]
    }
   ],
   "source": [
    "#Building filepath\n",
    "savingPath2 = \"./Classifiers/Kneigh/\"\n",
    "clfFileType2 = \".clf\"\n",
    "name2 = \"Kneighclf\"+ \"_Main\"\n",
    "path2 = savingPath2 + name2 +clfFileType2\n",
    "\n",
    "#Build classifier if it doesn't already exist\n",
    "if(not os.path.isfile(path2)):\n",
    "    #Creating main classifier that is trained with all training images. \n",
    "    dataKneigh = hogArr.reshape(len(hogArr),-1)\n",
    "    labelsKneigh = vehicleLabels.reshape(-1)\n",
    "\n",
    "    #Train Kneigh classifier\n",
    "    print(\"Building the main Kneigh classifier ...\",end = '')\n",
    "    pTime = time.time()\n",
    "    clfMain2 = KNeighborsClassifier(n_neighbors=len(vehicleDir))\n",
    "    clfMain2.fit(dataKneigh, labelsKneigh)\n",
    "    eTime = time.time()\n",
    "    print(\"DONE!\")\n",
    "    print(\"Time taken to build main Kneigh classifier:\",eTime-pTime,\"sec\")\n",
    "\n",
    "    #Saving main SVM classifier\n",
    "    saveCLF(clfMain2,path2)\n",
    "\n",
    "#If the file already exist, just load the classifier instead of building a new one (saves a lot of time)\n",
    "else:\n",
    "    print(\"Loading main Kneigh classifier ...\",end = '')\n",
    "    clfMain2 = loadCLF(path2)\n",
    "    print(\"DONE!\")"
   ]
  },
  {
   "cell_type": "markdown",
   "metadata": {},
   "source": [
    "## 2.1 Classifier evaluation\n",
    "### 2.1.1 Evaluating SVM\n",
    "\n",
    "#### Creating k-bin classifiers"
   ]
  },
  {
   "cell_type": "code",
   "execution_count": 11,
   "metadata": {},
   "outputs": [
    {
     "name": "stdout",
     "output_type": "stream",
     "text": [
      "Loading labeled data ...DONE!\n",
      "Loading existing SVM classifier for k-bin = 0 ...DONE! (Time taken to load classifier 0 : 7.180274486541748 sec)\n",
      "Loading existing SVM classifier for k-bin = 1 ...DONE! (Time taken to load classifier 1 : 7.398269176483154 sec)\n",
      "Loading existing SVM classifier for k-bin = 2 ...DONE! (Time taken to load classifier 2 : 6.01653790473938 sec)\n",
      "Loading existing SVM classifier for k-bin = 3 ...DONE! (Time taken to load classifier 3 : 8.061376571655273 sec)\n",
      "Loading existing SVM classifier for k-bin = 4 ...DONE! (Time taken to load classifier 4 : 8.206270217895508 sec)\n",
      "Loading existing SVM classifier for k-bin = 5 ...DONE! (Time taken to load classifier 5 : 9.20791745185852 sec)\n",
      "Loading existing SVM classifier for k-bin = 6 ...DONE! (Time taken to load classifier 6 : 8.596079111099243 sec)\n",
      "Loading existing SVM classifier for k-bin = 7 ...DONE! (Time taken to load classifier 7 : 7.879503965377808 sec)\n",
      "Loading existing SVM classifier for k-bin = 8 ...DONE! (Time taken to load classifier 8 : 8.466060400009155 sec)\n",
      "Loading existing SVM classifier for k-bin = 9 ...DONE! (Time taken to load classifier 9 : 10.686758279800415 sec)\n"
     ]
    }
   ],
   "source": [
    "#USING K-CROSSVALIDATION\n",
    "#BUILDING ARRAY OF SIZE K WITH ALL K-CLASSIFIERS \n",
    "\n",
    "#Reshape the data to be a NxD array\n",
    "data = hogArr.reshape(len(hogArr),-1)\n",
    "labels = vehicleLabels.reshape(len(vehicleLabels),-1)\n",
    "\n",
    "#create labeled data for shuffling if it isn't already saved; else used saved and already shuffled version\n",
    "savingPath = \"./bin/\"\n",
    "dataFileType = \".data\"\n",
    "name = \"labeledData_Validation\" + str(KCROSSVALID_NUM)\n",
    "path = savingPath +name+ dataFileType\n",
    "if(not os.path.isfile(path)):\n",
    "    #Create a randomized array \n",
    "    print(\"Shuffling labeled data ...\",end = '')\n",
    "    dataAndLabel = [labeledData(data[i],labels[i],i) for i in range(len(data))]\n",
    "    dataAndLabel = np.asarray(dataAndLabel) \n",
    "    rand.shuffle(dataAndLabel)\n",
    "    print(\"DONE!\")\n",
    "    print(\"Saving labeled data ...\",end = '')\n",
    "    joblib.dump(dataAndLabel,path)\n",
    "    print(\"DONE!\")\n",
    "else:\n",
    "    print(\"Loading labeled data ...\",end = '')\n",
    "    dataAndLabel = joblib.load(path)\n",
    "    print(\"DONE!\")\n",
    "    \n",
    "#split data into training and testing arrays\n",
    "k = KCROSSVALID_NUM\n",
    "sizeOfBin = len(dataAndLabel) // k\n",
    "savingPath = \"./Classifiers/SVM/\"\n",
    "clfFileType = \".clf\"\n",
    "clfArr = []\n",
    "for kIdx in range(k):\n",
    "    name = \"SVMclf_Validation\"+ str(kIdx)\n",
    "    path = savingPath +name+ clfFileType\n",
    "    #Only create a new classifier if it hasn't been built before (implemented as such because they take a long time to generate)\n",
    "    if(not os.path.isfile(path)):\n",
    "        #Creating Training Array\n",
    "        labeledTrain = np.delete(dataAndLabel,np.arange(kIdx*sizeOfBin,(kIdx+1)*sizeOfBin))  #Size of (k-1)*sizeOfBin\n",
    "        Train = [labeledTrain[i].data for i in range(len(labeledTrain))]\n",
    "        Train = np.asarray(Train)\n",
    "        TrainLabel= [labeledTrain[i].label for i in range(len(labeledTrain))]\n",
    "        TrainLabel = np.asarray(TrainLabel).reshape(-1)\n",
    "\n",
    "        #Train SVM classifier\n",
    "        print(\"Building SVM classifier for testing k-bin =\",kIdx,\"...\",end = '')\n",
    "        pTime = time.time()\n",
    "        clf = svm.SVC(gamma=0.001, C=100.)\n",
    "        clf.fit(Train, TrainLabel)\n",
    "        clfArr.append(clf)\n",
    "        eTime = time.time()\n",
    "        print(\"DONE!\",end = \" \")\n",
    "        print(\"(Time taken to build classifier\",kIdx,\":\",eTime-pTime,\"sec)\")\n",
    "\n",
    "        #Saving SVM Classifier\n",
    "        name = \"SVMclf_Validation\"+ str(kIdx)\n",
    "        path = savingPath +name+ clfFileType\n",
    "        saveCLF(clf,path)\n",
    "    \n",
    "    #If classifier already exist, just print a statement saying it already exist\n",
    "    else:\n",
    "        print(\"Loading existing SVM classifier for k-bin =\", kIdx, \"...\",end=\"\")\n",
    "        pTime = time.time()\n",
    "        clfArr.append(loadCLF(path))\n",
    "        eTime = time.time()\n",
    "        print(\"DONE!\",end = \" \")\n",
    "        print(\"(Time taken to load classifier\",kIdx,\":\",eTime-pTime,\"sec)\")\n",
    "        \n"
   ]
  },
  {
   "cell_type": "markdown",
   "metadata": {},
   "source": [
    "#### Predicting labels"
   ]
  },
  {
   "cell_type": "code",
   "execution_count": 12,
   "metadata": {},
   "outputs": [
    {
     "name": "stdout",
     "output_type": "stream",
     "text": [
      "Predicting labels of Test images from k-bin = 0 ...DONE! (Time taken to predict images:  187.2030918598175 sec)\n",
      "Predicting labels of Test images from k-bin = 1 ...DONE! (Time taken to predict images:  180.15715432167053 sec)\n",
      "Predicting labels of Test images from k-bin = 2 ...DONE! (Time taken to predict images:  179.62571620941162 sec)\n",
      "Predicting labels of Test images from k-bin = 3 ...DONE! (Time taken to predict images:  178.6839940547943 sec)\n",
      "Predicting labels of Test images from k-bin = 4 ...DONE! (Time taken to predict images:  178.8487424850464 sec)\n",
      "Predicting labels of Test images from k-bin = 5 ...DONE! (Time taken to predict images:  182.70469450950623 sec)\n",
      "Predicting labels of Test images from k-bin = 6 ...DONE! (Time taken to predict images:  178.71703624725342 sec)\n",
      "Predicting labels of Test images from k-bin = 7 ...DONE! (Time taken to predict images:  180.62722849845886 sec)\n",
      "Predicting labels of Test images from k-bin = 8 ...DONE! (Time taken to predict images:  181.44578957557678 sec)\n",
      "Predicting labels of Test images from k-bin = 9 ...DONE! (Time taken to predict images:  191.84911918640137 sec)\n"
     ]
    }
   ],
   "source": [
    "#Setting important variables\n",
    "loadingPath = \"./bin/\"\n",
    "clfFileType = \".clf\"\n",
    "dataFileType = \".data\"\n",
    "k = KCROSSVALID_NUM\n",
    "sizeOfBin = len(dataAndLabel) // k\n",
    "\n",
    "#loading randomized labeled data that was used to train classifiers. Used to make sure that training images aren't used for testing\n",
    "path = loadingPath + \"labeledData_Validation\" + str(k) + dataFileType\n",
    "dataAndLabel = joblib.load(path)\n",
    "\n",
    "#Predicting the Test data\n",
    "accuracyArr = []\n",
    "predictedArr = []\n",
    "TestLabelArr = []\n",
    "confusionPredArr = np.asarray([])\n",
    "confusionActualArr = np.asarray([])\n",
    "for kIdx in range(k):\n",
    "    #Loading K-cross validation classifier\n",
    "    clf = clfArr[kIdx]\n",
    "    \n",
    "    #Building test arrays\n",
    "    labeledTest  = dataAndLabel[kIdx*sizeOfBin:(kIdx+1)*sizeOfBin]  #Size of sizeofBin\n",
    "    Test = [labeledTest[i].data for i in range(len(labeledTest))]\n",
    "    Test = np.asarray(Test)\n",
    "    TestLabel= [labeledTest[i].label for i in range(len(labeledTest))]\n",
    "    TestLabel = np.asarray(TestLabel).reshape(-1)\n",
    "    \n",
    "    #Predicting the test array\n",
    "    print(\"Predicting labels of Test images from k-bin =\",kIdx,\"...\",end = '')\n",
    "    start = time.time()\n",
    "    predicted = clf.predict(Test)\n",
    "    end = time.time()\n",
    "    print(\"DONE!\", end = \" \")\n",
    "    print(\"(Time taken to predict images: \",end-start,\"sec)\")\n",
    "    \n",
    "    predictedArr.append(predicted)\n",
    "    TestLabelArr.append(TestLabel)\n"
   ]
  },
  {
   "cell_type": "markdown",
   "metadata": {},
   "source": [
    "#### Finding TP,TN,FP,FN"
   ]
  },
  {
   "cell_type": "code",
   "execution_count": 13,
   "metadata": {},
   "outputs": [],
   "source": [
    "#Find TP,TN,FP,FN for each label\n",
    "flatPredicted = np.asarray(predictedArr)\n",
    "flatTestLabel = np.asarray(TestLabelArr)\n",
    "Flags  = np.zeros((len(vehicleDir),KCROSSVALID_NUM ,4)) #Every categories have TP,TN,FP,FN\n",
    "\n",
    "for pred in range(KCROSSVALID_NUM):\n",
    "    for i in range(len(flatPredicted[pred])):\n",
    "        predLabel = flatPredicted[pred][i]\n",
    "        actualLabel = flatTestLabel[pred][i]\n",
    "        for j in range(len(vehicleDir)):\n",
    "            #Find TP\n",
    "            if(j == actualLabel and j == predLabel):\n",
    "                Flags[j][pred][0] += 1\n",
    "\n",
    "            #Find TN\n",
    "            if(j != actualLabel and j != predLabel):\n",
    "                Flags[j][pred][1] += 1\n",
    "\n",
    "            #Find FP\n",
    "            if(j != actualLabel and j == predLabel):\n",
    "                Flags[j][pred][2] += 1\n",
    "\n",
    "            #FIND FN\n",
    "            if(j == actualLabel and j != predLabel):\n",
    "                Flags[j][pred][3] += 1\n"
   ]
  },
  {
   "cell_type": "markdown",
   "metadata": {},
   "source": [
    "#### Evaluating SVM classifier\n",
    "#### Average classification accuracy across validations, with the standard deviation."
   ]
  },
  {
   "cell_type": "code",
   "execution_count": 14,
   "metadata": {},
   "outputs": [
    {
     "name": "stdout",
     "output_type": "stream",
     "text": [
      "REPORT ACCURACY for  articulated_truck : \n",
      "\tAccuracy: 0.9180620484487889\n",
      "REPORT ACCURACY for  background : \n",
      "\tAccuracy: 0.9404164895877603\n",
      "REPORT ACCURACY for  bicycle : \n",
      "\tAccuracy: 0.9375265618359541\n",
      "REPORT ACCURACY for  bus : \n",
      "\tAccuracy: 0.9457713557161072\n",
      "REPORT ACCURACY for  car : \n",
      "\tAccuracy: 0.9487462813429667\n",
      "REPORT ACCURACY for  motorcycle : \n",
      "\tAccuracy: 0.9373140671483213\n",
      "REPORT ACCURACY for  non-motorized_vehicle : \n",
      "\tAccuracy: 0.9303867403314917\n",
      "REPORT ACCURACY for  pedestrian : \n",
      "\tAccuracy: 0.9396515087122823\n",
      "REPORT ACCURACY for  pickup_truck : \n",
      "\tAccuracy: 0.9415214619634509\n",
      "REPORT ACCURACY for  single_unit_truck : \n",
      "\tAccuracy: 0.9286867828304293\n",
      "REPORT ACCURACY for  work_van : \n",
      "\tAccuracy: 0.9363790905227369\n",
      "\n",
      "REPORT ACCURACY CLASSIFIER: \n",
      "\tAccuracy: 0.9367693080400262\n",
      "\tStandard Deviation: 0.008122500420946534\n"
     ]
    }
   ],
   "source": [
    "#Finding accuracy\n",
    "accuracy = np.zeros(len(vehicleDir))\n",
    "for k in range(len(vehicleDir)):\n",
    "    for pred in range(KCROSSVALID_NUM):\n",
    "        accuracy[k] += (Flags[k][pred][0] +Flags[k][pred][1])/sum(Flags[k][pred])/KCROSSVALID_NUM\n",
    "\n",
    "#Creating report of accuracy of all validations\n",
    "for k in range(len(vehicleDir)):\n",
    "    print(\"REPORT ACCURACY for \",vehicleDir[k],\": \")\n",
    "    print(\"\\tAccuracy:\", accuracy[k])\n",
    "\n",
    "#Print total report\n",
    "print(\"\\nREPORT ACCURACY CLASSIFIER: \")\n",
    "print(\"\\tAccuracy:\", np.mean(accuracy))\n",
    "print(\"\\tStandard Deviation:\",np.std(accuracy))\n"
   ]
  },
  {
   "cell_type": "markdown",
   "metadata": {},
   "source": [
    "#### Average precision* and recall* across validations. Are these values consistent with the accuracy? Are they more representative of the dataset? In what situations would you expect precision and recall to be a better reflection of model performance than accuracy?"
   ]
  },
  {
   "cell_type": "code",
   "execution_count": 15,
   "metadata": {},
   "outputs": [
    {
     "name": "stdout",
     "output_type": "stream",
     "text": [
      "REPORT PRECISION/RECALL for  articulated_truck : \n",
      "\tPRECISION: 0.554579415876026\n",
      "\tRECALL: 0.628887618900965\n",
      "REPORT PRECISION/RECALL for  background : \n",
      "\tPRECISION: 0.6618359117220118\n",
      "\tRECALL: 0.7407037606297333\n",
      "REPORT PRECISION/RECALL for  bicycle : \n",
      "\tPRECISION: 0.6689726689015031\n",
      "\tRECALL: 0.6583265146437808\n",
      "REPORT PRECISION/RECALL for  bus : \n",
      "\tPRECISION: 0.7004518559212999\n",
      "\tRECALL: 0.7345793087409662\n",
      "REPORT PRECISION/RECALL for  car : \n",
      "\tPRECISION: 0.7153876192860508\n",
      "\tRECALL: 0.7490917061331143\n",
      "REPORT PRECISION/RECALL for  motorcycle : \n",
      "\tPRECISION: 0.6240764289125932\n",
      "\tRECALL: 0.6497926497758522\n",
      "REPORT PRECISION/RECALL for  non-motorized_vehicle : \n",
      "\tPRECISION: 0.5332456032506171\n",
      "\tRECALL: 0.5115039185975041\n",
      "REPORT PRECISION/RECALL for  pedestrian : \n",
      "\tPRECISION: 0.6835705143350767\n",
      "\tRECALL: 0.6619770402076018\n",
      "REPORT PRECISION/RECALL for  pickup_truck : \n",
      "\tPRECISION: 0.6961136712570649\n",
      "\tRECALL: 0.6667449751259749\n",
      "REPORT PRECISION/RECALL for  single_unit_truck : \n",
      "\tPRECISION: 0.6460591756361548\n",
      "\tRECALL: 0.5199636291272116\n",
      "REPORT PRECISION/RECALL for  work_van : \n",
      "\tPRECISION: 0.671540996026325\n",
      "\tRECALL: 0.6232332825351465\n",
      "\n",
      "REPORT PRECISION/RECALL CLASSIFIER: \n",
      "\tPRECISION: 0.6505303510113384\n",
      "\tRECALL: 0.6495276731288955\n"
     ]
    }
   ],
   "source": [
    "#Finding precision and recall\n",
    "precision = np.zeros(len(vehicleDir))\n",
    "recall = np.zeros(len(vehicleDir))\n",
    "for k in range(len(vehicleDir)):\n",
    "    for pred in range(KCROSSVALID_NUM):\n",
    "        precision[k] += (Flags[k][pred][0])/(Flags[k][pred][0] + Flags[k][pred][2]) / KCROSSVALID_NUM\n",
    "        recall[k] += (Flags[k][pred][0])/(Flags[k][pred][0] + Flags[k][pred][3]) / KCROSSVALID_NUM\n",
    "\n",
    "#Creating report of precision and recall of all validations\n",
    "for k in range(len(vehicleDir)):\n",
    "    print(\"REPORT PRECISION/RECALL for \",vehicleDir[k],\": \")\n",
    "    print(\"\\tPRECISION:\", precision[k])\n",
    "    print(\"\\tRECALL:\", recall[k])\n",
    "\n",
    "#Print total report\n",
    "print(\"\\nREPORT PRECISION/RECALL CLASSIFIER: \")\n",
    "print(\"\\tPRECISION:\", np.mean(precision))\n",
    "print(\"\\tRECALL:\",np.mean(recall))\n"
   ]
  },
  {
   "cell_type": "markdown",
   "metadata": {},
   "source": [
    "#### A confusion matrix on a validation set. Plot the matrix as an image. Are any of the classes difficult for your classifier? Discuss. "
   ]
  },
  {
   "cell_type": "code",
   "execution_count": 16,
   "metadata": {},
   "outputs": [
    {
     "data": {
      "image/png": "[encoded data removed]",
      "text/plain": [
       "<Figure size 720x720 with 2 Axes>"
      ]
     },
     "metadata": {},
     "output_type": "display_data"
    }
   ],
   "source": [
    "#Create ConfusionArrays\n",
    "confusionPredArr = np.asarray(predictedArr).reshape(-1)\n",
    "confusionActualArr = np.asarray(TestLabelArr).reshape(-1)\n",
    "\n",
    "#Obtain non-normalize confusion matrix\n",
    "confusionMat = confusion_matrix(confusionActualArr,confusionPredArr)\n",
    "\n",
    "#Normalize confusion matrix across rows. \n",
    "confusionMat =  confusionMat.astype('float') / confusionMat.sum(axis=1)[:, np.newaxis]\n",
    "\n",
    "plt.figure(figsize = (10,10))\n",
    "plt.imshow(confusionMat)\n",
    "plt.colorbar()\n",
    "title = \"Confusion Matrix\"\n",
    "plt.title(title), plt.xlabel(\"Predicted Label\"), plt.ylabel(\"Actual Label\")\n",
    "plt.xticks(np.arange(11),vehicleName,rotation=40), plt.yticks(np.arange(11),vehicleName)\n",
    "plt.show()"
   ]
  },
  {
   "cell_type": "markdown",
   "metadata": {},
   "source": [
    "### 2.1.2 Evaluating K-Neighbors\n",
    "\n",
    "#### Creating k-bin classifiers"
   ]
  },
  {
   "cell_type": "code",
   "execution_count": 17,
   "metadata": {},
   "outputs": [
    {
     "name": "stdout",
     "output_type": "stream",
     "text": [
      "Loading labeled data ...DONE!\n",
      "Loading existing Kneigh classifier for k-bin = 0 ...DONE! (Time taken to load classifier 0 : 13.888512372970581 sec)\n",
      "Loading existing Kneigh classifier for k-bin = 1 ...DONE! (Time taken to load classifier 1 : 15.480811595916748 sec)\n",
      "Loading existing Kneigh classifier for k-bin = 2 ...DONE! (Time taken to load classifier 2 : 14.5684175491333 sec)\n",
      "Loading existing Kneigh classifier for k-bin = 3 ...DONE! (Time taken to load classifier 3 : 14.140503644943237 sec)\n",
      "Loading existing Kneigh classifier for k-bin = 4 ...DONE! (Time taken to load classifier 4 : 12.344924688339233 sec)\n",
      "Loading existing Kneigh classifier for k-bin = 5 ...DONE! (Time taken to load classifier 5 : 13.951621532440186 sec)\n",
      "Loading existing Kneigh classifier for k-bin = 6 ...DONE! (Time taken to load classifier 6 : 14.582454681396484 sec)\n",
      "Loading existing Kneigh classifier for k-bin = 7 ...DONE! (Time taken to load classifier 7 : 17.242528676986694 sec)\n",
      "Loading existing Kneigh classifier for k-bin = 8 ...DONE! (Time taken to load classifier 8 : 16.300972938537598 sec)\n",
      "Loading existing Kneigh classifier for k-bin = 9 ...DONE! (Time taken to load classifier 9 : 14.167413234710693 sec)\n"
     ]
    }
   ],
   "source": [
    "#USING K-CROSSVALIDATION\n",
    "#BUILDING ARRAY OF SIZE K WITH ALL K-CLASSIFIERS \n",
    "\n",
    "#Reshape the data to be a NxD array\n",
    "data = hogArr.reshape(len(hogArr),-1)\n",
    "labels = vehicleLabels.reshape(len(vehicleLabels),-1)\n",
    "\n",
    "#create labeled data for shuffling if it isn't already saved; else used saved and already shuffled version\n",
    "savingPath = \"./bin/\"\n",
    "dataFileType = \".data\"\n",
    "name = \"labeledData_Validation\" + str(KCROSSVALID_NUM)\n",
    "path = savingPath +name+ dataFileType\n",
    "if(not os.path.isfile(path)):\n",
    "    #Create a randomized array \n",
    "    print(\"Shuffling labeled data ...\",end = '')\n",
    "    dataAndLabel = [labeledData(data[i],labels[i],i) for i in range(len(data))]\n",
    "    dataAndLabel = np.asarray(dataAndLabel) \n",
    "    rand.shuffle(dataAndLabel)\n",
    "    print(\"DONE!\")\n",
    "    print(\"Saving labeled data ...\",end = '')\n",
    "    joblib.dump(dataAndLabel,path)\n",
    "    print(\"DONE!\")\n",
    "else:\n",
    "    print(\"Loading labeled data ...\",end = '')\n",
    "    dataAndLabel = joblib.load(path)\n",
    "    print(\"DONE!\")\n",
    "    \n",
    "#split data into training and testing arrays\n",
    "k = KCROSSVALID_NUM\n",
    "sizeOfBin = len(dataAndLabel) // k\n",
    "savingPath = \"./Classifiers/Kneigh/\"\n",
    "clfFileType = \".clf\"\n",
    "clfArr = []\n",
    "for kIdx in range(k):\n",
    "    name = \"Kneighclf_Validation\"+ str(kIdx)\n",
    "    path = savingPath +name+ clfFileType\n",
    "    #Only create a new classifier if it hasn't been built before (implemented as such because they take a long time to generate)\n",
    "    if(not os.path.isfile(path)):\n",
    "        #Creating Training Array\n",
    "        labeledTrain = np.delete(dataAndLabel,np.arange(kIdx*sizeOfBin,(kIdx+1)*sizeOfBin))  #Size of (k-1)*sizeOfBin\n",
    "        Train = [labeledTrain[i].data for i in range(len(labeledTrain))]\n",
    "        Train = np.asarray(Train)\n",
    "        TrainLabel= [labeledTrain[i].label for i in range(len(labeledTrain))]\n",
    "        TrainLabel = np.asarray(TrainLabel).reshape(-1)\n",
    "\n",
    "        #Train K-neigh classifier\n",
    "        print(\"Building Kneigh classifier for testing k-bin =\",kIdx,\"...\",end = '')\n",
    "        pTime = time.time()\n",
    "        clf = KNeighborsClassifier(n_neighbors=len(vehicleDir))\n",
    "        clf.fit(Train, TrainLabel)\n",
    "        clfArr.append(clf)\n",
    "        eTime = time.time()\n",
    "        print(\"DONE!\",end = \" \")\n",
    "        print(\"(Time taken to build classifier\",kIdx,\":\",eTime-pTime,\"sec)\")\n",
    "\n",
    "        #Saving Kneigh Classifier\n",
    "        name = \"Kneighclf_Validation\"+ str(kIdx)\n",
    "        path = savingPath +name+ clfFileType\n",
    "        saveCLF(clf,path)\n",
    "    \n",
    "    #If classifier already exist, just print a statement saying it already exist\n",
    "    else:\n",
    "        print(\"Loading existing Kneigh classifier for k-bin =\", kIdx, \"...\",end=\"\")\n",
    "        pTime = time.time()\n",
    "        clfArr.append(loadCLF(path))\n",
    "        eTime = time.time()\n",
    "        print(\"DONE!\",end = \" \")\n",
    "        print(\"(Time taken to load classifier\",kIdx,\":\",eTime-pTime,\"sec)\")\n",
    "        \n"
   ]
  },
  {
   "cell_type": "markdown",
   "metadata": {},
   "source": [
    "#### Predicting Labels"
   ]
  },
  {
   "cell_type": "code",
   "execution_count": 18,
   "metadata": {},
   "outputs": [
    {
     "name": "stdout",
     "output_type": "stream",
     "text": [
      "Predicting labels of Test images from k-bin = 0 ...DONE! (Time taken to predict images:  323.1139256954193 sec)\n",
      "Predicting labels of Test images from k-bin = 1 ...DONE! (Time taken to predict images:  313.5983831882477 sec)\n",
      "Predicting labels of Test images from k-bin = 2 ...DONE! (Time taken to predict images:  330.62153244018555 sec)\n",
      "Predicting labels of Test images from k-bin = 3 ...DONE! (Time taken to predict images:  320.0403962135315 sec)\n",
      "Predicting labels of Test images from k-bin = 4 ...DONE! (Time taken to predict images:  316.76954412460327 sec)\n",
      "Predicting labels of Test images from k-bin = 5 ...DONE! (Time taken to predict images:  309.1383948326111 sec)\n",
      "Predicting labels of Test images from k-bin = 6 ...DONE! (Time taken to predict images:  308.66031098365784 sec)\n",
      "Predicting labels of Test images from k-bin = 7 ...DONE! (Time taken to predict images:  4734.03059220314 sec)\n",
      "Predicting labels of Test images from k-bin = 8 ...DONE! (Time taken to predict images:  327.99119424819946 sec)\n",
      "Predicting labels of Test images from k-bin = 9 ...DONE! (Time taken to predict images:  325.15416717529297 sec)\n"
     ]
    }
   ],
   "source": [
    "#Setting important variables\n",
    "loadingPath = \"./bin/\"\n",
    "clfFileType = \".clf\"\n",
    "dataFileType = \".data\"\n",
    "k = KCROSSVALID_NUM\n",
    "sizeOfBin = len(dataAndLabel) // k\n",
    "\n",
    "#loading randomized labeled data that was used to train classifiers. Used to make sure that training images aren't used for testing\n",
    "path = loadingPath + \"labeledData_Validation\" + str(k) + dataFileType\n",
    "dataAndLabel = joblib.load(path)\n",
    "\n",
    "#Predicting the Test data\n",
    "accuracyArr = []\n",
    "predictedArr = []\n",
    "TestLabelArr = []\n",
    "confusionPredArr = np.asarray([])\n",
    "confusionActualArr = np.asarray([])\n",
    "for kIdx in range(k):\n",
    "    #Loading K-cross validation classifier\n",
    "    clf = clfArr[kIdx]\n",
    "    \n",
    "    #Building test arrays\n",
    "    labeledTest  = dataAndLabel[kIdx*sizeOfBin:(kIdx+1)*sizeOfBin]  #Size of sizeofBin\n",
    "    Test = [labeledTest[i].data for i in range(len(labeledTest))]\n",
    "    Test = np.asarray(Test)\n",
    "    TestLabel= [labeledTest[i].label for i in range(len(labeledTest))]\n",
    "    TestLabel = np.asarray(TestLabel).reshape(-1)\n",
    "    \n",
    "    #Predicting the test array\n",
    "    print(\"Predicting labels of Test images from k-bin =\",kIdx,\"...\",end = '')\n",
    "    start = time.time()\n",
    "    predicted = clf.predict(Test)\n",
    "    end = time.time()\n",
    "    print(\"DONE!\", end = \" \")\n",
    "    print(\"(Time taken to predict images: \",end-start,\"sec)\")\n",
    "    \n",
    "    predictedArr.append(predicted)\n",
    "    TestLabelArr.append(TestLabel)\n",
    "    "
   ]
  },
  {
   "cell_type": "markdown",
   "metadata": {},
   "source": [
    "#### Finding TP,TN,FP,FN"
   ]
  },
  {
   "cell_type": "code",
   "execution_count": 19,
   "metadata": {},
   "outputs": [],
   "source": [
    "#Find TP,TN,FP,FN for each label\n",
    "flatPredicted = np.asarray(predictedArr)\n",
    "flatTestLabel = np.asarray(TestLabelArr)\n",
    "Flags  = np.zeros((len(vehicleDir),KCROSSVALID_NUM ,4)) #Every categories have TP,TN,FP,FN\n",
    "\n",
    "for pred in range(KCROSSVALID_NUM):\n",
    "    for i in range(len(flatPredicted[pred])):\n",
    "        predLabel = flatPredicted[pred][i]\n",
    "        actualLabel = flatTestLabel[pred][i]\n",
    "        for j in range(len(vehicleDir)):\n",
    "            #Find TP\n",
    "            if(j == actualLabel and j == predLabel):\n",
    "                Flags[j][pred][0] += 1\n",
    "\n",
    "            #Find TN\n",
    "            if(j != actualLabel and j != predLabel):\n",
    "                Flags[j][pred][1] += 1\n",
    "\n",
    "            #Find FP\n",
    "            if(j != actualLabel and j == predLabel):\n",
    "                Flags[j][pred][2] += 1\n",
    "\n",
    "            #FIND FN\n",
    "            if(j == actualLabel and j != predLabel):\n",
    "                Flags[j][pred][3] += 1"
   ]
  },
  {
   "cell_type": "markdown",
   "metadata": {},
   "source": [
    "#### Evaluating Kneigh classifier\n",
    "#### Average classification accuracy across validations, with the standard deviation."
   ]
  },
  {
   "cell_type": "code",
   "execution_count": 20,
   "metadata": {},
   "outputs": [
    {
     "name": "stdout",
     "output_type": "stream",
     "text": [
      "REPORT ACCURACY for  articulated_truck : \n",
      "\tAccuracy: 0.9415214619634509\n",
      "REPORT ACCURACY for  background : \n",
      "\tAccuracy: 0.9162345941351466\n",
      "REPORT ACCURACY for  bicycle : \n",
      "\tAccuracy: 0.9346366340841479\n",
      "REPORT ACCURACY for  bus : \n",
      "\tAccuracy: 0.9599660008499786\n",
      "REPORT ACCURACY for  car : \n",
      "\tAccuracy: 0.9686782830429239\n",
      "REPORT ACCURACY for  motorcycle : \n",
      "\tAccuracy: 0.9461113472163198\n",
      "REPORT ACCURACY for  non-motorized_vehicle : \n",
      "\tAccuracy: 0.9559711007224819\n",
      "REPORT ACCURACY for  pedestrian : \n",
      "\tAccuracy: 0.934041648958776\n",
      "REPORT ACCURACY for  pickup_truck : \n",
      "\tAccuracy: 0.9573735656608584\n",
      "REPORT ACCURACY for  single_unit_truck : \n",
      "\tAccuracy: 0.9433064173395664\n",
      "REPORT ACCURACY for  work_van : \n",
      "\tAccuracy: 0.9545686357841054\n",
      "\n",
      "REPORT ACCURACY CLASSIFIER: \n",
      "\tAccuracy: 0.9465826990688871\n",
      "\tStandard Deviation: 0.014120436078385225\n"
     ]
    }
   ],
   "source": [
    "#Finding accuracy\n",
    "accuracy = np.zeros(len(vehicleDir))\n",
    "for k in range(len(vehicleDir)):\n",
    "    for pred in range(KCROSSVALID_NUM):\n",
    "        accuracy[k] += (Flags[k][pred][0] +Flags[k][pred][1])/sum(Flags[k][pred])/KCROSSVALID_NUM\n",
    "\n",
    "#Creating report of accuracy of all validations\n",
    "for k in range(len(vehicleDir)):\n",
    "    print(\"REPORT ACCURACY for \",vehicleDir[k],\": \")\n",
    "    print(\"\\tAccuracy:\", accuracy[k])\n",
    "\n",
    "#Print total report\n",
    "print(\"\\nREPORT ACCURACY CLASSIFIER: \")\n",
    "print(\"\\tAccuracy:\", np.mean(accuracy))\n",
    "print(\"\\tStandard Deviation:\",np.std(accuracy))\n"
   ]
  },
  {
   "cell_type": "markdown",
   "metadata": {},
   "source": [
    "#### Average precision* and recall* across validations. Are these values consistent with the accuracy? Are they more representative of the dataset? In what situations would you expect precision and recall to be a better reflection of model performance than accuracy?"
   ]
  },
  {
   "cell_type": "code",
   "execution_count": 21,
   "metadata": {},
   "outputs": [
    {
     "name": "stdout",
     "output_type": "stream",
     "text": [
      "REPORT PRECISION/RECALL for  articulated_truck : \n",
      "\tPRECISION: 0.6658742606579163\n",
      "\tRECALL: 0.7532675918935992\n",
      "REPORT PRECISION/RECALL for  background : \n",
      "\tPRECISION: 0.535712992698922\n",
      "\tRECALL: 0.7831369467741911\n",
      "REPORT PRECISION/RECALL for  bicycle : \n",
      "\tPRECISION: 0.6276686070354329\n",
      "\tRECALL: 0.7400267834681333\n",
      "REPORT PRECISION/RECALL for  bus : \n",
      "\tPRECISION: 0.7578391672765932\n",
      "\tRECALL: 0.8414041849754552\n",
      "REPORT PRECISION/RECALL for  car : \n",
      "\tPRECISION: 0.8073297182550007\n",
      "\tRECALL: 0.872743565505343\n",
      "REPORT PRECISION/RECALL for  motorcycle : \n",
      "\tPRECISION: 0.6776238761108342\n",
      "\tRECALL: 0.6881429353030871\n",
      "REPORT PRECISION/RECALL for  non-motorized_vehicle : \n",
      "\tPRECISION: 0.7715026828212816\n",
      "\tRECALL: 0.5832669723059065\n",
      "REPORT PRECISION/RECALL for  pedestrian : \n",
      "\tPRECISION: 0.9117635696491184\n",
      "\tRECALL: 0.32590041375494383\n",
      "REPORT PRECISION/RECALL for  pickup_truck : \n",
      "\tPRECISION: 0.7499598798454081\n",
      "\tRECALL: 0.8182203359585106\n",
      "REPORT PRECISION/RECALL for  single_unit_truck : \n",
      "\tPRECISION: 0.7431247185012969\n",
      "\tRECALL: 0.5997168201405373\n",
      "REPORT PRECISION/RECALL for  work_van : \n",
      "\tPRECISION: 0.7679105653974946\n",
      "\tRECALL: 0.7350234256971537\n",
      "\n",
      "REPORT PRECISION/RECALL CLASSIFIER: \n",
      "\tPRECISION: 0.7287554580226634\n",
      "\tRECALL: 0.703713634161533\n"
     ]
    }
   ],
   "source": [
    "#Finding precision and recall\n",
    "precision = np.zeros(len(vehicleDir))\n",
    "recall = np.zeros(len(vehicleDir))\n",
    "for k in range(len(vehicleDir)):\n",
    "    for pred in range(KCROSSVALID_NUM):\n",
    "        precision[k] += (Flags[k][pred][0])/(Flags[k][pred][0] + Flags[k][pred][2]) / KCROSSVALID_NUM\n",
    "        recall[k] += (Flags[k][pred][0])/(Flags[k][pred][0] + Flags[k][pred][3]) / KCROSSVALID_NUM\n",
    "\n",
    "#Creating report of precision and recall of all validations\n",
    "for k in range(len(vehicleDir)):\n",
    "    print(\"REPORT PRECISION/RECALL for \",vehicleDir[k],\": \")\n",
    "    print(\"\\tPRECISION:\", precision[k])\n",
    "    print(\"\\tRECALL:\", recall[k])\n",
    "\n",
    "#Print total report\n",
    "print(\"\\nREPORT PRECISION/RECALL CLASSIFIER: \")\n",
    "print(\"\\tPRECISION:\", np.mean(precision))\n",
    "print(\"\\tRECALL:\",np.mean(recall))\n"
   ]
  },
  {
   "cell_type": "markdown",
   "metadata": {},
   "source": [
    "#### A confusion matrix on a validation set. Plot the matrix as an image. Are any of the classes difficult for your classifier? Discuss. "
   ]
  },
  {
   "cell_type": "code",
   "execution_count": 22,
   "metadata": {},
   "outputs": [
    {
     "data": {
      "image/png": "[encoded data removed]",
      "text/plain": [
       "<Figure size 720x720 with 2 Axes>"
      ]
     },
     "metadata": {},
     "output_type": "display_data"
    }
   ],
   "source": [
    "#Create ConfusionArrays\n",
    "confusionPredArr = np.asarray(predictedArr).reshape(-1)\n",
    "confusionActualArr = np.asarray(TestLabelArr).reshape(-1)\n",
    "\n",
    "#Obtain non-normalize confusion matrix\n",
    "confusionMat = confusion_matrix(confusionActualArr,confusionPredArr)\n",
    "\n",
    "#Normalize confusion matrix across rows. \n",
    "confusionMat =  confusionMat.astype('float') / confusionMat.sum(axis=1)[:, np.newaxis]\n",
    "\n",
    "plt.figure(figsize = (10,10))\n",
    "plt.imshow(confusionMat)\n",
    "plt.colorbar()\n",
    "title = \"Confusion Matrix\"\n",
    "plt.title(title), plt.xlabel(\"Predicted Label\"), plt.ylabel(\"Actual Label\")\n",
    "plt.xticks(np.arange(11),vehicleName,rotation=40), plt.yticks(np.arange(11),vehicleName)\n",
    "plt.show()"
   ]
  },
  {
   "cell_type": "code",
   "execution_count": null,
   "metadata": {},
   "outputs": [],
   "source": []
  },
  {
   "cell_type": "code",
   "execution_count": null,
   "metadata": {},
   "outputs": [],
   "source": []
  }
 ],
 "metadata": {
  "kernelspec": {
   "display_name": "Python 3",
   "language": "python",
   "name": "python3"
  },
  "language_info": {
   "codemirror_mode": {
    "name": "ipython",
    "version": 3
   },
   "file_extension": ".py",
   "mimetype": "text/x-python",
   "name": "python",
   "nbconvert_exporter": "python",
   "pygments_lexer": "ipython3",
   "version": "3.6.5"
  }
 },
 "nbformat": 4,
 "nbformat_minor": 2
}
