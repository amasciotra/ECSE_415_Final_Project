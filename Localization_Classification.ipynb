{
 "cells": [
  {
   "cell_type": "markdown",
   "metadata": {},
   "source": [
    "# Localization_Classification.ipynb\n",
    "Date: November 29th, 2018  \n",
    "Course: ECSE415, McGill University  \n",
    "Authors:  \n",
    "*Shawn Vosburg  \n",
    "Tristan Bouchard  \n",
    "Alex Masciotra  \n",
    "Nayem Alam  \n",
    "Thomas Philippon *"
   ]
  },
  {
   "cell_type": "markdown",
   "metadata": {},
   "source": [
    "## 3. Localization & Classification"
   ]
  },
  {
   "cell_type": "code",
   "execution_count": 7,
   "metadata": {},
   "outputs": [],
   "source": [
    "#Import the required libraries\n",
    "import cv2\n",
    "import numpy as np\n",
    "import matplotlib.pyplot as plt\n",
    "import os\n",
    "import time\n",
    "import  random as rand\n",
    "import csv\n"
   ]
  },
  {
   "cell_type": "code",
   "execution_count": 59,
   "metadata": {},
   "outputs": [
    {
     "name": "stdout",
     "output_type": "stream",
     "text": [
      "194\n"
     ]
    }
   ],
   "source": [
    "#Class hoding the dimensions of the object windows.  \n",
    "class rectangle():\n",
    "    def __init__(self, x, y, w, h):\n",
    "        self.x = x\n",
    "        self.y = y\n",
    "        self.w = w\n",
    "        self.h = h\n",
    "        \n",
    "#Image directory \n",
    "folder = \"./MIO-TCD-Localization/Localization/train/\"\n",
    "csv_datapath = \"./MIO-TCD-Localization/MIO-TCD-Localization/gt_train.csv\"\n",
    "\n",
    "#load the .csv file \n",
    "#with open('./MIO-TCD-Localization/MIO-TCD-Localization/gt_train.csv') as f: \n",
    "    #reader = csv.reader(f)\n",
    "   # for i in reader:\n",
    "    #    print(i)\n",
    "\n",
    "#Stucture holding the labels \n",
    "vehicleName = [\n",
    "    \"articulated_truck\", \"bicycle\",\n",
    "    \"bus\", \"car\", \"motorcycle\",\"motorized_vehicle \" \"non-motorized_vehicle\",\n",
    "    \"pedestrian\", \"pickup_truck\", \"single_unit_truck\", \"work_van\"                \n",
    "]\n",
    "\n",
    "\n",
    "#function reading a .csv file and creating a rectangle object from the GT table\n",
    "def read_image(img_id, csv_datapath):\n",
    "    \n",
    "    \"\"\"Function that takes an image from the dataset and the GT csv file and returns an array of rectangles each detected object on the image \n",
    "    ----------\n",
    "    img_id : image name (name of the file) \n",
    "    csv_file : csv file read using the csv.read function\n",
    "    Returns \n",
    "    -------\n",
    "    rectangle_list : list of rectangle objects for each detected object on the image \n",
    "    \"\"\"\n",
    "    #create the list of rectangles object \n",
    "    rectangle_list = []\n",
    "    \n",
    "    #open the csv file and retrieve the gt\n",
    "    with open(csv_datapath) as f: \n",
    "        reader = csv.reader(f)\n",
    "        for i in reader:\n",
    "            if(i[0] == img_id): \n",
    "                rect = rectangle(x = i[2], y = i[4] , h = i[3] ,w = i[5])\n",
    "                rectangle_list.append(rect)\n",
    "    \n",
    "    return rectangle_list \n",
    "\n",
    "\n",
    "#function to compute the dice coefficients \n",
    "def dice_coef(gt_list, loc_list):\n",
    "    \n",
    "    \"\"\"Function that takes the detected windows from the localization algorithm and computes the dice coefficients using the gt table\n",
    "    ----------\n",
    "    csv_file : csv file read using the csv.read function\n",
    "   \n",
    "    Returns \n",
    "    -------\n",
    "    dice_list : array of rectangle objects for each detected object on the image \n",
    "    \"\"\"\n",
    "    dice_list = [] \n",
    "    \n",
    "    return dice_list \n",
    "\n",
    "\n",
    "a = read_image(\"00000000\", csv_datapath)\n"
   ]
  },
  {
   "cell_type": "code",
   "execution_count": null,
   "metadata": {},
   "outputs": [],
   "source": [
    "\n",
    "  \n",
    "\n",
    "\n",
    "\n"
   ]
  },
  {
   "cell_type": "code",
   "execution_count": null,
   "metadata": {},
   "outputs": [],
   "source": []
  }
 ],
 "metadata": {
  "kernelspec": {
   "display_name": "Python 3",
   "language": "python",
   "name": "python3"
  },
  "language_info": {
   "codemirror_mode": {
    "name": "ipython",
    "version": 3
   },
   "file_extension": ".py",
   "mimetype": "text/x-python",
   "name": "python",
   "nbconvert_exporter": "python",
   "pygments_lexer": "ipython3",
   "version": "3.6.5"
  }
 },
 "nbformat": 4,
 "nbformat_minor": 2
}
